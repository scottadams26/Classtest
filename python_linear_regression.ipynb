{
 "cells": [
  {
   "cell_type": "markdown",
   "metadata": {},
   "source": [
    "# Linear Modeling in Python\n",
    "\n",
    "This notebook walks through an example linear regression model in Python. \n",
    "\n",
    "## Import and Explore Data\n",
    "\n",
    "First, we need some data. In this example we will use the 2017 World Happiness Rankings, which can be found [here](https://promotable2.teachable.com/courses/429444/lectures/6561182). If you do not already have these data downloaded, please do that now, and note the directory on your computer to which you downloaded. Once you have this file downloaded, please run the following cell to import the necessary modules for this exercise.\n"
   ]
  },
  {
   "cell_type": "code",
   "execution_count": 1,
   "metadata": {},
   "outputs": [],
   "source": [
    "import pandas as pd\n",
    "import os\n",
    "import numpy as np\n",
    "from sklearn import datasets, linear_model\n",
    "#from sklearn.model_selection import train_test_split\n",
    "from sklearn import metrics\n",
    "from matplotlib import pyplot as plt"
   ]
  },
  {
   "cell_type": "markdown",
   "metadata": {},
   "source": [
    "Now, assign to a new object names `path` the location of the CSV file you downloaded. Then use `os.getcwd` to print the newly assigned working directory."
   ]
  },
  {
   "cell_type": "code",
   "execution_count": 2,
   "metadata": {},
   "outputs": [
    {
     "data": {
      "text/plain": [
       "'/Users/scottadams/Google_Drive/Promotable/Nov18/day9'"
      ]
     },
     "execution_count": 2,
     "metadata": {},
     "output_type": "execute_result"
    }
   ],
   "source": [
    "path = \"/Users/scottadams/Google_Drive/Promotable/Nov18/day9/\"  \n",
    "os.chdir(path)  \n",
    "os.getcwd()"
   ]
  },
  {
   "cell_type": "markdown",
   "metadata": {},
   "source": [
    "Read the **datasci_day3_world_happiness_rank_2017.csv** file into a new object. Check the first 10 rows."
   ]
  },
  {
   "cell_type": "code",
   "execution_count": 5,
   "metadata": {},
   "outputs": [
    {
     "data": {
      "text/html": [
       "<div>\n",
       "<style scoped>\n",
       "    .dataframe tbody tr th:only-of-type {\n",
       "        vertical-align: middle;\n",
       "    }\n",
       "\n",
       "    .dataframe tbody tr th {\n",
       "        vertical-align: top;\n",
       "    }\n",
       "\n",
       "    .dataframe thead th {\n",
       "        text-align: right;\n",
       "    }\n",
       "</style>\n",
       "<table border=\"1\" class=\"dataframe\">\n",
       "  <thead>\n",
       "    <tr style=\"text-align: right;\">\n",
       "      <th></th>\n",
       "      <th>country</th>\n",
       "      <th>happiness_rank</th>\n",
       "      <th>happiness_score</th>\n",
       "      <th>whisker_high</th>\n",
       "      <th>whisker_low</th>\n",
       "      <th>gdp_per_capita</th>\n",
       "      <th>family</th>\n",
       "      <th>life_epxectancy</th>\n",
       "      <th>freedom</th>\n",
       "      <th>generosity</th>\n",
       "      <th>government_trust</th>\n",
       "      <th>dystopia_residual</th>\n",
       "    </tr>\n",
       "  </thead>\n",
       "  <tbody>\n",
       "    <tr>\n",
       "      <th>0</th>\n",
       "      <td>Norway</td>\n",
       "      <td>1</td>\n",
       "      <td>7.537</td>\n",
       "      <td>7.594445</td>\n",
       "      <td>7.479556</td>\n",
       "      <td>1.616463</td>\n",
       "      <td>1.533524</td>\n",
       "      <td>0.796667</td>\n",
       "      <td>0.635423</td>\n",
       "      <td>0.362012</td>\n",
       "      <td>0.315964</td>\n",
       "      <td>2.277027</td>\n",
       "    </tr>\n",
       "    <tr>\n",
       "      <th>1</th>\n",
       "      <td>Denmark</td>\n",
       "      <td>2</td>\n",
       "      <td>7.522</td>\n",
       "      <td>7.581728</td>\n",
       "      <td>7.462272</td>\n",
       "      <td>1.482383</td>\n",
       "      <td>1.551122</td>\n",
       "      <td>0.792566</td>\n",
       "      <td>0.626007</td>\n",
       "      <td>0.355280</td>\n",
       "      <td>0.400770</td>\n",
       "      <td>2.313707</td>\n",
       "    </tr>\n",
       "    <tr>\n",
       "      <th>2</th>\n",
       "      <td>Iceland</td>\n",
       "      <td>3</td>\n",
       "      <td>7.504</td>\n",
       "      <td>7.622030</td>\n",
       "      <td>7.385970</td>\n",
       "      <td>1.480633</td>\n",
       "      <td>1.610574</td>\n",
       "      <td>0.833552</td>\n",
       "      <td>0.627163</td>\n",
       "      <td>0.475540</td>\n",
       "      <td>0.153527</td>\n",
       "      <td>2.322715</td>\n",
       "    </tr>\n",
       "    <tr>\n",
       "      <th>3</th>\n",
       "      <td>Switzerland</td>\n",
       "      <td>4</td>\n",
       "      <td>7.494</td>\n",
       "      <td>7.561772</td>\n",
       "      <td>7.426227</td>\n",
       "      <td>1.564980</td>\n",
       "      <td>1.516912</td>\n",
       "      <td>0.858131</td>\n",
       "      <td>0.620071</td>\n",
       "      <td>0.290549</td>\n",
       "      <td>0.367007</td>\n",
       "      <td>2.276716</td>\n",
       "    </tr>\n",
       "    <tr>\n",
       "      <th>4</th>\n",
       "      <td>Finland</td>\n",
       "      <td>5</td>\n",
       "      <td>7.469</td>\n",
       "      <td>7.527542</td>\n",
       "      <td>7.410458</td>\n",
       "      <td>1.443572</td>\n",
       "      <td>1.540247</td>\n",
       "      <td>0.809158</td>\n",
       "      <td>0.617951</td>\n",
       "      <td>0.245483</td>\n",
       "      <td>0.382612</td>\n",
       "      <td>2.430182</td>\n",
       "    </tr>\n",
       "  </tbody>\n",
       "</table>\n",
       "</div>"
      ],
      "text/plain": [
       "       country  happiness_rank  happiness_score  whisker_high  whisker_low  \\\n",
       "0       Norway               1            7.537      7.594445     7.479556   \n",
       "1      Denmark               2            7.522      7.581728     7.462272   \n",
       "2      Iceland               3            7.504      7.622030     7.385970   \n",
       "3  Switzerland               4            7.494      7.561772     7.426227   \n",
       "4      Finland               5            7.469      7.527542     7.410458   \n",
       "\n",
       "   gdp_per_capita    family  life_epxectancy   freedom  generosity  \\\n",
       "0        1.616463  1.533524         0.796667  0.635423    0.362012   \n",
       "1        1.482383  1.551122         0.792566  0.626007    0.355280   \n",
       "2        1.480633  1.610574         0.833552  0.627163    0.475540   \n",
       "3        1.564980  1.516912         0.858131  0.620071    0.290549   \n",
       "4        1.443572  1.540247         0.809158  0.617951    0.245483   \n",
       "\n",
       "   government_trust  dystopia_residual  \n",
       "0          0.315964           2.277027  \n",
       "1          0.400770           2.313707  \n",
       "2          0.153527           2.322715  \n",
       "3          0.367007           2.276716  \n",
       "4          0.382612           2.430182  "
      ]
     },
     "execution_count": 5,
     "metadata": {},
     "output_type": "execute_result"
    }
   ],
   "source": [
    "happy = pd.read_csv(\"datasci_day3_world_happiness_rank_2017.csv\", header = 0)\n",
    "happy.head(5)"
   ]
  },
  {
   "cell_type": "markdown",
   "metadata": {},
   "source": [
    "Let's get a higher-level overview of our data."
   ]
  },
  {
   "cell_type": "code",
   "execution_count": 7,
   "metadata": {},
   "outputs": [
    {
     "name": "stdout",
     "output_type": "stream",
     "text": [
      "<class 'pandas.core.frame.DataFrame'>\n",
      "RangeIndex: 155 entries, 0 to 154\n",
      "Data columns (total 12 columns):\n",
      "country              155 non-null object\n",
      "happiness_rank       155 non-null int64\n",
      "happiness_score      155 non-null float64\n",
      "whisker_high         155 non-null float64\n",
      "whisker_low          155 non-null float64\n",
      "gdp_per_capita       155 non-null float64\n",
      "family               155 non-null float64\n",
      "life_epxectancy      155 non-null float64\n",
      "freedom              155 non-null float64\n",
      "generosity           155 non-null float64\n",
      "government_trust     155 non-null float64\n",
      "dystopia_residual    155 non-null float64\n",
      "dtypes: float64(10), int64(1), object(1)\n",
      "memory usage: 14.6+ KB\n"
     ]
    }
   ],
   "source": [
    "happy.info()"
   ]
  },
  {
   "cell_type": "markdown",
   "metadata": {},
   "source": [
    "What country is ranked #1 for happiness?"
   ]
  },
  {
   "cell_type": "code",
   "execution_count": 6,
   "metadata": {},
   "outputs": [
    {
     "data": {
      "text/html": [
       "<div>\n",
       "<style scoped>\n",
       "    .dataframe tbody tr th:only-of-type {\n",
       "        vertical-align: middle;\n",
       "    }\n",
       "\n",
       "    .dataframe tbody tr th {\n",
       "        vertical-align: top;\n",
       "    }\n",
       "\n",
       "    .dataframe thead th {\n",
       "        text-align: right;\n",
       "    }\n",
       "</style>\n",
       "<table border=\"1\" class=\"dataframe\">\n",
       "  <thead>\n",
       "    <tr style=\"text-align: right;\">\n",
       "      <th></th>\n",
       "      <th>country</th>\n",
       "    </tr>\n",
       "  </thead>\n",
       "  <tbody>\n",
       "    <tr>\n",
       "      <th>0</th>\n",
       "      <td>Norway</td>\n",
       "    </tr>\n",
       "  </tbody>\n",
       "</table>\n",
       "</div>"
      ],
      "text/plain": [
       "  country\n",
       "0  Norway"
      ]
     },
     "execution_count": 6,
     "metadata": {},
     "output_type": "execute_result"
    }
   ],
   "source": [
    "happy.loc[happy['happiness_rank'] == 1, ['country'] ]"
   ]
  },
  {
   "cell_type": "markdown",
   "metadata": {},
   "source": [
    "Check for missing data."
   ]
  },
  {
   "cell_type": "code",
   "execution_count": 8,
   "metadata": {},
   "outputs": [
    {
     "data": {
      "text/plain": [
       "False"
      ]
     },
     "execution_count": 8,
     "metadata": {},
     "output_type": "execute_result"
    }
   ],
   "source": [
    "happy.isnull().values.any()"
   ]
  },
  {
   "cell_type": "markdown",
   "metadata": {},
   "source": [
    "### _Examining Correlations_\n",
    "\n",
    "Let's look at the correlations among our outcome, **happiness_score**, and several potential predictors. Remember that correlation is a measure of the strength of the association between two variables and ranges from -1 to +1, where -1 indicates a perfect negative correlation (i.e., as the values in one variable increase the values in the other variable always decrease), 0 indicates no correlation, and +1 means a perfect positive correlation. Here is what these extreme correlation values look like visually. "
   ]
  },
  {
   "cell_type": "code",
   "execution_count": 130,
   "metadata": {},
   "outputs": [
    {
     "data": {
      "image/png": "[encoded data removed]",
      "text/plain": [
       "<Figure size 1080x288 with 3 Axes>"
      ]
     },
     "metadata": {
      "needs_background": "light"
     },
     "output_type": "display_data"
    }
   ],
   "source": [
    "import matplotlib.gridspec as gridspec\n",
    "%matplotlib inline\n",
    "gs = gridspec.GridSpec(1, 3)\n",
    "\n",
    "z1 = [0, 1, 2, 3, 4, 5, 6, 7, 8, 9, 10]\n",
    "z2 = [10, 9, 8, 7, 6, 5, 4, 3, 2, 1, 0]\n",
    "z3 = [0, 1, 2, 3, 4, 5, 6, 7, 8, 9, 10]\n",
    "z4 = [5, 5, 5, 5, 5, 5, 5, 5, 5, 5, 5]\n",
    "\n",
    "f = plt.figure(figsize = (15,4))\n",
    "ax1 = f.add_subplot(gs[0, 0])\n",
    "ax2 = f.add_subplot(gs[0, 1])\n",
    "ax3 = f.add_subplot(gs[0, 2])\n",
    "f.subplots_adjust(wspace=0.5)\n",
    "\n",
    "\n",
    "ax1.scatter(z1, z2, color='r')\n",
    "ax1.set_xlabel('X')\n",
    "ax1.set_ylabel('Y')\n",
    "ax1.set_title(\"Correlation = -1\")\n",
    "\n",
    "ax2.scatter(z1, z4, color='r')\n",
    "ax2.set_xlabel('X')\n",
    "ax2.set_ylabel('Y')\n",
    "ax2.set_title(\"Correlation = 0\")\n",
    "ax2.set_ylim([0,10])\n",
    "\n",
    "ax3.scatter(z1, z3, color='r')\n",
    "ax3.set_xlabel('X')\n",
    "ax3.set_ylabel('Y')\n",
    "ax3.set_title(\"Correlation = +1\")\n",
    "\n",
    "plt.show()"
   ]
  },
  {
   "cell_type": "markdown",
   "metadata": {},
   "source": [
    "Now let's look at the actual correlations between some candidate variables."
   ]
  },
  {
   "cell_type": "code",
   "execution_count": 32,
   "metadata": {},
   "outputs": [
    {
     "data": {
      "text/html": [
       "<div>\n",
       "<style scoped>\n",
       "    .dataframe tbody tr th:only-of-type {\n",
       "        vertical-align: middle;\n",
       "    }\n",
       "\n",
       "    .dataframe tbody tr th {\n",
       "        vertical-align: top;\n",
       "    }\n",
       "\n",
       "    .dataframe thead th {\n",
       "        text-align: right;\n",
       "    }\n",
       "</style>\n",
       "<table border=\"1\" class=\"dataframe\">\n",
       "  <thead>\n",
       "    <tr style=\"text-align: right;\">\n",
       "      <th></th>\n",
       "      <th>happiness_score</th>\n",
       "      <th>gdp_per_capita</th>\n",
       "      <th>freedom</th>\n",
       "      <th>government_trust</th>\n",
       "      <th>dystopia_residual</th>\n",
       "    </tr>\n",
       "  </thead>\n",
       "  <tbody>\n",
       "    <tr>\n",
       "      <th>happiness_score</th>\n",
       "      <td>1.000000</td>\n",
       "      <td>0.812469</td>\n",
       "      <td>0.570137</td>\n",
       "      <td>0.429080</td>\n",
       "      <td>0.475355</td>\n",
       "    </tr>\n",
       "    <tr>\n",
       "      <th>gdp_per_capita</th>\n",
       "      <td>0.812469</td>\n",
       "      <td>1.000000</td>\n",
       "      <td>0.369873</td>\n",
       "      <td>0.350944</td>\n",
       "      <td>0.024226</td>\n",
       "    </tr>\n",
       "    <tr>\n",
       "      <th>freedom</th>\n",
       "      <td>0.570137</td>\n",
       "      <td>0.369873</td>\n",
       "      <td>1.000000</td>\n",
       "      <td>0.499183</td>\n",
       "      <td>0.081926</td>\n",
       "    </tr>\n",
       "    <tr>\n",
       "      <th>government_trust</th>\n",
       "      <td>0.429080</td>\n",
       "      <td>0.350944</td>\n",
       "      <td>0.499183</td>\n",
       "      <td>1.000000</td>\n",
       "      <td>-0.022755</td>\n",
       "    </tr>\n",
       "    <tr>\n",
       "      <th>dystopia_residual</th>\n",
       "      <td>0.475355</td>\n",
       "      <td>0.024226</td>\n",
       "      <td>0.081926</td>\n",
       "      <td>-0.022755</td>\n",
       "      <td>1.000000</td>\n",
       "    </tr>\n",
       "  </tbody>\n",
       "</table>\n",
       "</div>"
      ],
      "text/plain": [
       "                   happiness_score  gdp_per_capita   freedom  \\\n",
       "happiness_score           1.000000        0.812469  0.570137   \n",
       "gdp_per_capita            0.812469        1.000000  0.369873   \n",
       "freedom                   0.570137        0.369873  1.000000   \n",
       "government_trust          0.429080        0.350944  0.499183   \n",
       "dystopia_residual         0.475355        0.024226  0.081926   \n",
       "\n",
       "                   government_trust  dystopia_residual  \n",
       "happiness_score            0.429080           0.475355  \n",
       "gdp_per_capita             0.350944           0.024226  \n",
       "freedom                    0.499183           0.081926  \n",
       "government_trust           1.000000          -0.022755  \n",
       "dystopia_residual         -0.022755           1.000000  "
      ]
     },
     "execution_count": 32,
     "metadata": {},
     "output_type": "execute_result"
    }
   ],
   "source": [
    "happy.loc[:, ['happiness_score',  'gdp_per_capita', 'freedom', 'government_trust', 'dystopia_residual']].corr()"
   ]
  },
  {
   "cell_type": "markdown",
   "metadata": {},
   "source": [
    "The correlation between Happiness and GDP is particularly strong at 0.81. This is not too surprising given that GDP is one measure of a nation's economic well-being. If we plot the values of Happiness (on the Y axis) and GDP per capita (on the X axis) for each data point, we will see most of the data points moving up and to the right, illustrating a positive linear trend. "
   ]
  },
  {
   "cell_type": "code",
   "execution_count": 146,
   "metadata": {},
   "outputs": [
    {
     "data": {
      "image/png": "[encoded data removed]",
      "text/plain": [
       "<Figure size 720x720 with 1 Axes>"
      ]
     },
     "metadata": {
      "needs_background": "light"
     },
     "output_type": "display_data"
    }
   ],
   "source": [
    "plt.figure(figsize=(10, 10))\n",
    "ax = plt.axes()\n",
    "ax.scatter(happy.loc[:, 'gdp_per_capita'], happy.loc[:, 'happiness_score'],color='r')\n",
    "ax.set_xlabel('GDP per capita')\n",
    "ax.set_ylabel('Happiness')\n",
    "plt.show()"
   ]
  },
  {
   "cell_type": "markdown",
   "metadata": {},
   "source": [
    "Next, we will estimate a simple linear regression model treating GDP per capita as a predictor of Happiness score. "
   ]
  },
  {
   "cell_type": "markdown",
   "metadata": {},
   "source": [
    "## Linear Regression with Statsmodel\n",
    "\n",
    "One way to run linear regression is to use the Statsmodel API. The output from Statsmodel is fairly robust, providing a number of metrics by default that are useful for regression diagnostics."
   ]
  },
  {
   "cell_type": "code",
   "execution_count": 10,
   "metadata": {},
   "outputs": [
    {
     "data": {
      "text/html": [
       "<table class=\"simpletable\">\n",
       "<caption>OLS Regression Results</caption>\n",
       "<tr>\n",
       "  <th>Dep. Variable:</th>     <td>happiness_score</td> <th>  R-squared:         </th> <td>   0.660</td>\n",
       "</tr>\n",
       "<tr>\n",
       "  <th>Model:</th>                   <td>OLS</td>       <th>  Adj. R-squared:    </th> <td>   0.658</td>\n",
       "</tr>\n",
       "<tr>\n",
       "  <th>Method:</th>             <td>Least Squares</td>  <th>  F-statistic:       </th> <td>   297.1</td>\n",
       "</tr>\n",
       "<tr>\n",
       "  <th>Date:</th>             <td>Sat, 15 Dec 2018</td> <th>  Prob (F-statistic):</th> <td>1.11e-37</td>\n",
       "</tr>\n",
       "<tr>\n",
       "  <th>Time:</th>                 <td>09:34:38</td>     <th>  Log-Likelihood:    </th> <td> -154.91</td>\n",
       "</tr>\n",
       "<tr>\n",
       "  <th>No. Observations:</th>      <td>   155</td>      <th>  AIC:               </th> <td>   313.8</td>\n",
       "</tr>\n",
       "<tr>\n",
       "  <th>Df Residuals:</th>          <td>   153</td>      <th>  BIC:               </th> <td>   319.9</td>\n",
       "</tr>\n",
       "<tr>\n",
       "  <th>Df Model:</th>              <td>     1</td>      <th>                     </th>     <td> </td>   \n",
       "</tr>\n",
       "<tr>\n",
       "  <th>Covariance Type:</th>      <td>nonrobust</td>    <th>                     </th>     <td> </td>   \n",
       "</tr>\n",
       "</table>\n",
       "<table class=\"simpletable\">\n",
       "<tr>\n",
       "         <td></td>           <th>coef</th>     <th>std err</th>      <th>t</th>      <th>P>|t|</th>  <th>[0.025</th>    <th>0.975]</th>  \n",
       "</tr>\n",
       "<tr>\n",
       "  <th>const</th>          <td>    3.2032</td> <td>    0.136</td> <td>   23.619</td> <td> 0.000</td> <td>    2.935</td> <td>    3.471</td>\n",
       "</tr>\n",
       "<tr>\n",
       "  <th>gdp_per_capita</th> <td>    2.1842</td> <td>    0.127</td> <td>   17.238</td> <td> 0.000</td> <td>    1.934</td> <td>    2.435</td>\n",
       "</tr>\n",
       "</table>\n",
       "<table class=\"simpletable\">\n",
       "<tr>\n",
       "  <th>Omnibus:</th>       <td> 0.351</td> <th>  Durbin-Watson:     </th> <td>   1.211</td>\n",
       "</tr>\n",
       "<tr>\n",
       "  <th>Prob(Omnibus):</th> <td> 0.839</td> <th>  Jarque-Bera (JB):  </th> <td>   0.494</td>\n",
       "</tr>\n",
       "<tr>\n",
       "  <th>Skew:</th>          <td> 0.088</td> <th>  Prob(JB):          </th> <td>   0.781</td>\n",
       "</tr>\n",
       "<tr>\n",
       "  <th>Kurtosis:</th>      <td> 2.787</td> <th>  Cond. No.          </th> <td>    4.91</td>\n",
       "</tr>\n",
       "</table><br/><br/>Warnings:<br/>[1] Standard Errors assume that the covariance matrix of the errors is correctly specified."
      ],
      "text/plain": [
       "<class 'statsmodels.iolib.summary.Summary'>\n",
       "\"\"\"\n",
       "                            OLS Regression Results                            \n",
       "==============================================================================\n",
       "Dep. Variable:        happiness_score   R-squared:                       0.660\n",
       "Model:                            OLS   Adj. R-squared:                  0.658\n",
       "Method:                 Least Squares   F-statistic:                     297.1\n",
       "Date:                Sat, 15 Dec 2018   Prob (F-statistic):           1.11e-37\n",
       "Time:                        09:34:38   Log-Likelihood:                -154.91\n",
       "No. Observations:                 155   AIC:                             313.8\n",
       "Df Residuals:                     153   BIC:                             319.9\n",
       "Df Model:                           1                                         \n",
       "Covariance Type:            nonrobust                                         \n",
       "==================================================================================\n",
       "                     coef    std err          t      P>|t|      [0.025      0.975]\n",
       "----------------------------------------------------------------------------------\n",
       "const              3.2032      0.136     23.619      0.000       2.935       3.471\n",
       "gdp_per_capita     2.1842      0.127     17.238      0.000       1.934       2.435\n",
       "==============================================================================\n",
       "Omnibus:                        0.351   Durbin-Watson:                   1.211\n",
       "Prob(Omnibus):                  0.839   Jarque-Bera (JB):                0.494\n",
       "Skew:                           0.088   Prob(JB):                        0.781\n",
       "Kurtosis:                       2.787   Cond. No.                         4.91\n",
       "==============================================================================\n",
       "\n",
       "Warnings:\n",
       "[1] Standard Errors assume that the covariance matrix of the errors is correctly specified.\n",
       "\"\"\""
      ]
     },
     "execution_count": 10,
     "metadata": {},
     "output_type": "execute_result"
    }
   ],
   "source": [
    "import statsmodels.api as sm\n",
    "X2 = happy.loc[:, ['gdp_per_capita']]\n",
    "X2 = sm.add_constant(X2) # intercept is not added by default, be sure to specify it here!\n",
    "y2 = happy.loc[:, ['happiness_score']]\n",
    "\n",
    "model = sm.OLS(y2, X2).fit()\n",
    "predictions = model.predict(X2) # make the predictions by the model\n",
    "model.summary()"
   ]
  },
  {
   "cell_type": "markdown",
   "metadata": {},
   "source": [
    "So, what does this tell us? Under **coef**, we see that **gdp_per_capita** has a value of 2.1842. This means that a one-unit increase in gdp_per_capita is associated with a 2.1842 unit increase in the happiness score. The value of 0.000 under **P>|t|** tells us that this result is statistically significant. The R-square value for this model is 0.660, which means that our model is accounting for 66% of the variance in happiness. Not bad!"
   ]
  },
  {
   "cell_type": "markdown",
   "metadata": {},
   "source": [
    "## Linear Regression with Scikit-Learn\n",
    "\n",
    "Scikit-Learn is a popular Python machine learning library. One of the big differences between linear regression in Scikit-Learn and linear regression Statsmodel is that the user must specify what output they want to see from the Scikit-Learn regression model. \n",
    "\n",
    "Before running the regression model with Scikit-Learn, we need to prepare data by placing our target (i.e., our dependent variable/outcome) and features (i.e., independent variables/predictors) into their own arrays, which can be accomplished with the `c_` function in Numpy."
   ]
  },
  {
   "cell_type": "code",
   "execution_count": 11,
   "metadata": {},
   "outputs": [
    {
     "data": {
      "text/plain": [
       "array([[1.61646318],\n",
       "       [1.48238301]])"
      ]
     },
     "execution_count": 11,
     "metadata": {},
     "output_type": "execute_result"
    }
   ],
   "source": [
    "X = np.c_[happy.loc[:, ['gdp_per_capita']]]\n",
    "y = np.c_[happy.loc[:, 'happiness_score']]\n",
    "\n",
    "#Look at the first 2 elements\n",
    "X[0:2]"
   ]
  },
  {
   "cell_type": "markdown",
   "metadata": {},
   "source": [
    "Now we select the linear regression model and assign it to an object. We can also see all the parameters that are defined by default."
   ]
  },
  {
   "cell_type": "code",
   "execution_count": 12,
   "metadata": {},
   "outputs": [
    {
     "data": {
      "text/plain": [
       "{'copy_X': True, 'fit_intercept': True, 'n_jobs': 1, 'normalize': False}"
      ]
     },
     "execution_count": 12,
     "metadata": {},
     "output_type": "execute_result"
    }
   ],
   "source": [
    "lm = linear_model.LinearRegression()\n",
    "lm.get_params()"
   ]
  },
  {
   "cell_type": "markdown",
   "metadata": {},
   "source": [
    "Next, train the linear regression model"
   ]
  },
  {
   "cell_type": "code",
   "execution_count": 13,
   "metadata": {},
   "outputs": [
    {
     "data": {
      "text/plain": [
       "LinearRegression(copy_X=True, fit_intercept=True, n_jobs=1, normalize=False)"
      ]
     },
     "execution_count": 13,
     "metadata": {},
     "output_type": "execute_result"
    }
   ],
   "source": [
    "lm.fit(X, y)"
   ]
  },
  {
   "cell_type": "markdown",
   "metadata": {},
   "source": [
    "Output relevant metricts including yhat (predicted outcome), residuals and standardized residuals, r-square, and the mean squared error."
   ]
  },
  {
   "cell_type": "code",
   "execution_count": 14,
   "metadata": {},
   "outputs": [],
   "source": [
    "yhat = lm.predict(X)\n",
    "residual = y - yhat\n",
    "sresidual = residual/residual.std()\n",
    "r2 = lm.score(X, y) \n",
    "mse = metrics.mean_squared_error(y, lm.predict(X))"
   ]
  },
  {
   "cell_type": "code",
   "execution_count": 15,
   "metadata": {},
   "outputs": [
    {
     "name": "stdout",
     "output_type": "stream",
     "text": [
      " MODEL OUTPUT \n",
      "  \n",
      " ====================================\n",
      " Coefficient(s): [[2.18418495]] \n",
      " Intercept: [3.20321268] \n",
      " R-Squared: 0.6601054760877703 \n",
      " MSE: 0.43215056726384016 \n",
      " ====================================\n",
      "\n"
     ]
    }
   ],
   "source": [
    "print(\n",
    "\" MODEL OUTPUT \\n\",\n",
    "\" \\n\",  \n",
    "\"====================================\\n\", \n",
    "\"Coefficient(s): {} \\n\" .format(lm.coef_), \"Intercept: {} \\n\" .format(lm.intercept_), \"R-Squared: {} \\n\" .format(r2), \"MSE: {} \\n\" .format(mse),\n",
    "\"====================================\\n\" \n",
    ")"
   ]
  },
  {
   "cell_type": "markdown",
   "metadata": {},
   "source": [
    "Just like the Statsmodel output, the `Coefficient(s): [[2.18418495]] ` tells us that, on average, a one-unit increase in GDP per capita is associated with a 2.18 unit increase in the Happiness score. The output of `Intercept: [3.20321268]` tells us that when GDP per capita is set to 0 in the model we just ran, the expect Happiness score is 3.20. So, if we rerun the scatter plot between GDP per capita and Happiness Score our line of best fit will start at 3.20 and with every 1-unit increase in GDP per capita the predicted value of y (also called y-hat or $\\hat{y}$) will increase by a value of 2.18. "
   ]
  },
  {
   "cell_type": "code",
   "execution_count": 145,
   "metadata": {},
   "outputs": [
    {
     "data": {
      "image/png": "[encoded data removed]",
      "text/plain": [
       "<Figure size 720x720 with 1 Axes>"
      ]
     },
     "metadata": {
      "needs_background": "light"
     },
     "output_type": "display_data"
    }
   ],
   "source": [
    "plt.figure(figsize=(10, 10))\n",
    "ax = plt.axes()\n",
    "ax.scatter(X, y,color='r')\n",
    "ax.plot(X, lm.predict(X),color='blue')\n",
    "ax.set_xlabel('GDP per capita')\n",
    "ax.set_ylabel('Happiness')\n",
    "plt.show()"
   ]
  },
  {
   "cell_type": "markdown",
   "metadata": {},
   "source": [
    "Let's think a little more about what is going on here. As stated above, our line of best fit starts 3.20 and with every 1-unit increase in GDP per capita the predicted value of y increases by a value of 2.18. To better illustrate this, let's draw a dashed vertical line at GDP Per Capital = 1, which can be plotted with the code `plt.axvline(1, color='k', linestyle='dashed', linewidth=1)`."
   ]
  },
  {
   "cell_type": "code",
   "execution_count": 137,
   "metadata": {},
   "outputs": [
    {
     "data": {
      "image/png": "[encoded data removed]",
      "text/plain": [
       "<Figure size 360x360 with 1 Axes>"
      ]
     },
     "metadata": {
      "needs_background": "light"
     },
     "output_type": "display_data"
    }
   ],
   "source": [
    "plt.figure(figsize=(5, 5))\n",
    "ax = plt.axes()\n",
    "ax.plot(X, lm.predict(X),color='blue')\n",
    "ax.set_xlabel('GDP per capita')\n",
    "ax.set_ylabel('Happiness')\n",
    "plt.axvline(1, color='k', linestyle='dashed', linewidth=1)\n",
    "plt.show()"
   ]
  },
  {
   "cell_type": "markdown",
   "metadata": {},
   "source": [
    "Now let's put a horizontal line at the predicted Happiness Score when GDP Per Capita = 1, which can be plotted with the code `plt.axhline((lm.coef_ * 1) + lm.intercept_, color='k', linestyle='dashed', linewidth=1)`. "
   ]
  },
  {
   "cell_type": "code",
   "execution_count": 144,
   "metadata": {},
   "outputs": [
    {
     "data": {
      "image/png": "[encoded data removed]",
      "text/plain": [
       "<Figure size 360x360 with 1 Axes>"
      ]
     },
     "metadata": {
      "needs_background": "light"
     },
     "output_type": "display_data"
    }
   ],
   "source": [
    "plt.figure(figsize=(5, 5))\n",
    "ax = plt.axes()\n",
    "ax.plot(X, lm.predict(X),color='blue')\n",
    "ax.set_xlabel('GDP per capita')\n",
    "ax.set_ylabel('Happiness')\n",
    "#plt.axvline(1, color='k', linestyle='dashed', linewidth=1)\n",
    "#Show intersection between GDP per capital =1 and the associated predicted Happiness Score value\n",
    "plt.axhline((lm.coef_ * 1) + lm.intercept_, color='k', linestyle='dashed', linewidth=1)\n",
    "plt.show()"
   ]
  },
  {
   "cell_type": "markdown",
   "metadata": {},
   "source": [
    "Lastly, let's plot both the dashed horizontal and vertical lines over our line of best fit. The point where the the dashed horizontal and vertical line meet will fall right on the line of best fit, pinpointing the predicted value of Happiness when GPD per Capital equals 1."
   ]
  },
  {
   "cell_type": "code",
   "execution_count": 142,
   "metadata": {},
   "outputs": [
    {
     "data": {
      "image/png": "[encoded data removed]",
      "text/plain": [
       "<Figure size 720x720 with 1 Axes>"
      ]
     },
     "metadata": {
      "needs_background": "light"
     },
     "output_type": "display_data"
    }
   ],
   "source": [
    "plt.figure(figsize=(10, 10))\n",
    "ax = plt.axes()\n",
    "ax.plot(X, lm.predict(X),color='blue')\n",
    "ax.set_xlabel('GDP per capita')\n",
    "ax.set_ylabel('Happiness')\n",
    "plt.axvline(1, color='k', linestyle='dashed', linewidth=1)\n",
    "#Show intersection between GDP per capital =1 and the associated predicted Happiness Score value\n",
    "plt.axhline((lm.coef_ * 1) + lm.intercept_, color='k', linestyle='dashed', linewidth=1)\n",
    "plt.show()"
   ]
  },
  {
   "cell_type": "markdown",
   "metadata": {},
   "source": [
    "And about the r-square value. You will notice that in a regression model with a single predictor, it is just the squared correlation between the predictor and outcome."
   ]
  },
  {
   "cell_type": "code",
   "execution_count": 16,
   "metadata": {},
   "outputs": [
    {
     "data": {
      "text/plain": [
       "(0.6601054760877708, 0.6601054760877703)"
      ]
     },
     "execution_count": 16,
     "metadata": {},
     "output_type": "execute_result"
    }
   ],
   "source": [
    "happy['happiness_score'].corr(happy[\"gdp_per_capita\"])**2, r2"
   ]
  },
  {
   "cell_type": "markdown",
   "metadata": {},
   "source": [
    "Let's check the standardized residuals."
   ]
  },
  {
   "cell_type": "code",
   "execution_count": 17,
   "metadata": {},
   "outputs": [
    {
     "data": {
      "image/png": "[encoded data removed]",
      "text/plain": [
       "<Figure size 432x288 with 1 Axes>"
      ]
     },
     "metadata": {
      "needs_background": "light"
     },
     "output_type": "display_data"
    }
   ],
   "source": [
    "plt.scatter(yhat, sresidual)\n",
    "plt.axhline(0, color='k', linestyle='dashed', linewidth=3)\n",
    "plt.show()"
   ]
  },
  {
   "cell_type": "markdown",
   "metadata": {},
   "source": [
    "Are the residuals normally distributed?"
   ]
  },
  {
   "cell_type": "code",
   "execution_count": 18,
   "metadata": {},
   "outputs": [
    {
     "name": "stderr",
     "output_type": "stream",
     "text": [
      "/Users/scottadams/anaconda3/lib/python3.7/site-packages/matplotlib/figure.py:457: UserWarning: matplotlib is currently using a non-GUI backend, so cannot show the figure\n",
      "  \"matplotlib is currently using a non-GUI backend, \"\n"
     ]
    },
    {
     "data": {
      "image/png": "[encoded data removed]",
      "text/plain": [
       "<Figure size 504x360 with 1 Axes>"
      ]
     },
     "metadata": {
      "needs_background": "light"
     },
     "output_type": "display_data"
    }
   ],
   "source": [
    "f = plt.figure(figsize=(7, 5))\n",
    "ax = f.add_subplot(111)\n",
    "ax.hist(residual, bins=50)\n",
    "plt.axvline(residual.mean(), color='k', linestyle='dashed', linewidth=3)\n",
    "ax.set_xlabel('Residual')\n",
    "ax.set_ylabel('Frequency')\n",
    "f.show()"
   ]
  },
  {
   "cell_type": "markdown",
   "metadata": {},
   "source": [
    "Finally, let's take a look at our line of best fit."
   ]
  },
  {
   "cell_type": "markdown",
   "metadata": {},
   "source": [
    "We may be able to improve our model with additional predictors."
   ]
  },
  {
   "cell_type": "code",
   "execution_count": 20,
   "metadata": {},
   "outputs": [
    {
     "name": "stdout",
     "output_type": "stream",
     "text": [
      " MODEL OUTPUT \n",
      "  \n",
      " ====================================\n",
      " Coefficient(s): [[1.87359289 2.35571106]] \n",
      " Intercept: [2.5460767] \n",
      " R-Squared: 0.7443258733192046 \n",
      " MSE: 0.3250706060457865 \n",
      " ====================================\n",
      "\n"
     ]
    }
   ],
   "source": [
    "Xm2 = np.c_[happy.loc[:, ['gdp_per_capita', 'freedom']]]\n",
    "lm2 = linear_model.LinearRegression()\n",
    "lm2.fit(Xm2, y)\n",
    "yhat2 = lm2.predict(Xm2)\n",
    "residual2 = y - yhat2\n",
    "sresidual2 = residual2/residual2.std()\n",
    "r2_m2 = lm2.score(Xm2, y) \n",
    "mse2 = metrics.mean_squared_error(y, lm2.predict(Xm2))\n",
    "\n",
    "print(\n",
    "\" MODEL OUTPUT \\n\",\n",
    "\" \\n\",  \n",
    "\"====================================\\n\", \n",
    "\"Coefficient(s): {} \\n\" .format(lm2.coef_), \"Intercept: {} \\n\" .format(lm2.intercept_), \"R-Squared: {} \\n\" .format(r2_m2), \"MSE: {} \\n\" .format(mse2),\n",
    "\"====================================\\n\" \n",
    ")"
   ]
  },
  {
   "cell_type": "markdown",
   "metadata": {},
   "source": [
    "In the output, `Coefficient(s): [[1.87359289 2.35571106]]`, the first coefficient of 1.87 (rounded) is the slope for GDP per capita, and the second coefficient is the slope for Freedom. "
   ]
  },
  {
   "cell_type": "code",
   "execution_count": 22,
   "metadata": {},
   "outputs": [
    {
     "data": {
      "image/png": "[encoded data removed]",
      "text/plain": [
       "<Figure size 720x720 with 1 Axes>"
      ]
     },
     "metadata": {
      "needs_background": "light"
     },
     "output_type": "display_data"
    }
   ],
   "source": [
    "plt.figure(figsize=(10, 10))\n",
    "ax = plt.axes()\n",
    "ax.scatter(Xm2[:, 0], y,color='skyblue')\n",
    "ax.plot([0, 0.5, 1, 1.5,  2], lm2.predict([[0, 0.4], [0.5, 0.4], [1, 0.4], [1.5, 0.4], [2, 0.4]]),color='darkgreen')\n",
    "ax.set_xlabel('GDP per capita')\n",
    "ax.set_ylabel('Happiness')\n",
    "plt.show()"
   ]
  },
  {
   "cell_type": "markdown",
   "metadata": {},
   "source": [
    "Let's compare the line of best fit for GDP per capita from our original model, in blue, to GDP per capita net of Freedom, in green."
   ]
  },
  {
   "cell_type": "code",
   "execution_count": 23,
   "metadata": {},
   "outputs": [
    {
     "data": {
      "image/png": "[encoded data removed]",
      "text/plain": [
       "<Figure size 720x720 with 1 Axes>"
      ]
     },
     "metadata": {
      "needs_background": "light"
     },
     "output_type": "display_data"
    }
   ],
   "source": [
    "plt.figure(figsize=(10, 10))\n",
    "ax = plt.axes()\n",
    "ax.plot([0, 0.5, 1, 1.5,  2], lm2.predict([[0, 0.4], [0.5, 0.4], [1, 0.4], [1.5, 0.4], [2, 0.4]]),color='g')\n",
    "ax.plot(X, lm.predict(X),color='b')\n",
    "ax.set_xlabel('GDP per capita')\n",
    "ax.set_ylabel('Happiness')\n",
    "plt.show()\n"
   ]
  }
 ],
 "metadata": {
  "kernelspec": {
   "display_name": "Python 3",
   "language": "python",
   "name": "python3"
  },
  "language_info": {
   "codemirror_mode": {
    "name": "ipython",
    "version": 3
   },
   "file_extension": ".py",
   "mimetype": "text/x-python",
   "name": "python",
   "nbconvert_exporter": "python",
   "pygments_lexer": "ipython3",
   "version": "3.7.0"
  }
 },
 "nbformat": 4,
 "nbformat_minor": 2
}
